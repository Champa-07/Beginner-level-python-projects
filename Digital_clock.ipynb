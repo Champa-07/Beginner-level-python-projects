{
  "nbformat": 4,
  "nbformat_minor": 0,
  "metadata": {
    "kernelspec": {
      "display_name": "Python 3",
      "language": "python",
      "name": "python3"
    },
    "language_info": {
      "codemirror_mode": {
        "name": "ipython",
        "version": 3
      },
      "file_extension": ".py",
      "mimetype": "text/x-python",
      "name": "python",
      "nbconvert_exporter": "python",
      "pygments_lexer": "ipython3",
      "version": "3.7.3"
    },
    "colab": {
      "name": "Digital clock.ipynb",
      "provenance": [],
      "include_colab_link": true
    }
  },
  "cells": [
    {
      "cell_type": "markdown",
      "metadata": {
        "id": "view-in-github",
        "colab_type": "text"
      },
      "source": [
        "<a href=\"https://colab.research.google.com/github/Champa-07/Beginner-level-python-projects/blob/main/Digital_clock.ipynb\" target=\"_parent\"><img src=\"https://colab.research.google.com/assets/colab-badge.svg\" alt=\"Open In Colab\"/></a>"
      ]
    },
    {
      "cell_type": "code",
      "metadata": {
        "id": "tBKhznWjH_G9"
      },
      "source": [
        "# Jovian Commit Essentials\n",
        "# Please retain and execute this cell without modifying the contents for `jovian.commit` to work\n",
        "!pip install jovian --upgrade -q\n",
        "import jovian\n",
        "jovian.set_project('untitled20')\n",
        "jovian.set_colab_id('15XZLhp0j0JgD9gdTf9rw0YCm_9K25OgR')"
      ],
      "execution_count": null,
      "outputs": []
    },
    {
      "cell_type": "markdown",
      "metadata": {
        "id": "bnrx1-jyH_HD"
      },
      "source": [
        "# Digital clock"
      ]
    },
    {
      "cell_type": "code",
      "metadata": {
        "id": "PsBlY-NOH_HF"
      },
      "source": [
        "from tkinter import Label,Tk\n",
        "import time\n",
        "\n",
        "##Definig title and size of application\n",
        "\n",
        "app_window = Tk()\n",
        "app_window.title(\"Digital clock\")\n",
        "app_window.geometry(\"420x150\") \n",
        "app_window.resizable(1,1)\n",
        "\n",
        "text_font= (\"Boulder\", 68, 'bold')\n",
        "background = \"#f2e750\"\n",
        "foreground= \"#363529\"\n",
        "border_width = 25\n",
        "\n",
        "##combining all the elements to define label of clock\n",
        "\n",
        "label = Label(app_window, font=text_font, bg=background, fg=foreground, bd=border_width) \n",
        "label.grid(row=0, column=1)\n",
        "\n",
        "##defining main function\n",
        "\n",
        "def Digital_clock():\n",
        "    time_live = time.strftime(\"%H:%M:%S\")\n",
        "    label.config(text=time_live)\n",
        "    label.after(200,Digital_clock)\n",
        "    \n",
        "    Digital_clock()\n",
        "    app_window.mainloop()\n",
        "\n"
      ],
      "execution_count": null,
      "outputs": []
    },
    {
      "cell_type": "code",
      "metadata": {
        "id": "2CNMRsaVH_HG"
      },
      "source": [
        ""
      ],
      "execution_count": null,
      "outputs": []
    },
    {
      "cell_type": "code",
      "metadata": {
        "id": "BXxJuvX3H_HH"
      },
      "source": [
        ""
      ],
      "execution_count": null,
      "outputs": []
    }
  ]
}