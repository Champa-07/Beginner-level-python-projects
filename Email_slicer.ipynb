{
  "nbformat": 4,
  "nbformat_minor": 0,
  "metadata": {
    "kernelspec": {
      "display_name": "Python 3",
      "language": "python",
      "name": "python3"
    },
    "language_info": {
      "codemirror_mode": {
        "name": "ipython",
        "version": 3
      },
      "file_extension": ".py",
      "mimetype": "text/x-python",
      "name": "python",
      "nbconvert_exporter": "python",
      "pygments_lexer": "ipython3",
      "version": "3.7.3"
    },
    "colab": {
      "name": "Email slicer.ipynb",
      "provenance": [],
      "include_colab_link": true
    }
  },
  "cells": [
    {
      "cell_type": "markdown",
      "metadata": {
        "id": "view-in-github",
        "colab_type": "text"
      },
      "source": [
        "<a href=\"https://colab.research.google.com/github/Champa-07/Beginner-level-python-projects/blob/main/Email_slicer.ipynb\" target=\"_parent\"><img src=\"https://colab.research.google.com/assets/colab-badge.svg\" alt=\"Open In Colab\"/></a>"
      ]
    },
    {
      "cell_type": "code",
      "metadata": {
        "id": "cRYF91C0HrnU"
      },
      "source": [
        "# Jovian Commit Essentials\n",
        "# Please retain and execute this cell without modifying the contents for `jovian.commit` to work\n",
        "!pip install jovian --upgrade -q\n",
        "import jovian\n",
        "jovian.set_project('email-slicer-with-python')\n",
        "jovian.set_colab_id('1TPjw5GG5mC0JG18DTMNlH0p1LbLR6tx0')"
      ],
      "execution_count": null,
      "outputs": []
    },
    {
      "cell_type": "markdown",
      "metadata": {
        "id": "FcAvQd8ZHrnZ"
      },
      "source": [
        "# Email slicer with python"
      ]
    },
    {
      "cell_type": "code",
      "metadata": {
        "id": "Lg711DdmHrna",
        "outputId": "17a5d1e1-ef0c-41ca-84e2-69eba0065e9c"
      },
      "source": [
        "email = input(\"Enter Your Email: \").strip()\n",
        "username = email[:email.index(\"@\")]\n",
        "domain_name = email[email.index(\"@\")+1:]\n",
        "format_ = (f\"Your user name is '{username}' and your domain is '{domain_name}'\")\n",
        "print(format_)"
      ],
      "execution_count": null,
      "outputs": [
        {
          "output_type": "stream",
          "text": [
            "Enter Your Email: champa.p07@gmail.com\n",
            "Your user name is 'champa.p07' and your domain is 'gmail.com'\n"
          ],
          "name": "stdout"
        }
      ]
    },
    {
      "cell_type": "code",
      "metadata": {
        "id": "XFGmEdTMHrnc"
      },
      "source": [
        ""
      ],
      "execution_count": null,
      "outputs": []
    }
  ]
}